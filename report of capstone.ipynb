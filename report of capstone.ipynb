{
 "cells": [
  {
   "cell_type": "markdown",
   "metadata": {},
   "source": [
    "# Report on capstone project Finding the restaturant in the area with low crime rate of that area"
   ]
  },
  {
   "cell_type": "markdown",
   "metadata": {},
   "source": [
    "# Section1: Introduction"
   ]
  },
  {
   "cell_type": "raw",
   "metadata": {},
   "source": [
    "My idea for the Capstone Project is to show that when driven by venue and location data from FourSquare, backed up with open source crime data, that it is possible to present the cautious and nervous traveller with a list of attractions to visit supplementd with a graphics showing the occurance of crime in the region of the venue."
   ]
  },
  {
   "cell_type": "markdown",
   "metadata": {},
   "source": [
    "## Section2:Data"
   ]
  },
  {
   "cell_type": "raw",
   "metadata": {},
   "source": [
    "As noted below in the Further Development Section, it is possible to attempt quite complex and sophisticated scenarios when approaching this problem. However, given the size of the project and for simplicity only the following scenario will be addressed:\n",
    "\n",
    "   1.Query the FourSqaure website for the top sites in Chicago\n",
    "   2.Use the FourSquare API to get supplemental geographical data about the top sites\n",
    "   3.Use the FourSquare API to get top restaurent recommendations closest to each of the top site\n",
    "   4.Use open source Chicago Crime data to provide the user with additional crime data"
   ]
  },
  {
   "cell_type": "markdown",
   "metadata": {},
   "source": [
    "## Section3:Methodology"
   ]
  },
  {
   "cell_type": "raw",
   "metadata": {},
   "source": [
    "he first round of eploratory analysis was to examine the Top Venues and Restaurants Dataframes to determine if there was any correlation between variables.\n",
    "\n",
    "Unforfunately the only data attributes that could be analysed were the Latitude and Longitude attributes and their relationship to the venuse score. Top Venues was examined First.\n",
    "\n",
    "Modelling The data\n",
    "    We choose the RandomForestClassifier to predict the crimes and it is the best model for the data."
   ]
  },
  {
   "cell_type": "markdown",
   "metadata": {},
   "source": [
    "## Section4:Results & Prediction"
   ]
  },
  {
   "cell_type": "raw",
   "metadata": {},
   "source": [
    "The idea for the Capstone Project is to show that when driven by venue and location data from FourSquare, backed up with open source crime data, that it is possible to present the cautious and nervous traveller with a list of attractions to visit supplementd with a graphics showing the occurance of crime in the region of the venue."
   ]
  },
  {
   "cell_type": "raw",
   "metadata": {},
   "source": [
    "The travellers decides on a city location [in this case Chicago]\n",
    "The ForeSquare website is scrapped for the top venues in the city\n",
    "From this list of top venues the list is augmented with additional grographical data\n",
    "Using this additional geographical data the top nearby restaurents are selects\n",
    "The historical crime within a predetermined distance of all venues are obtained\n",
    "A map is presented to the to the traveller showing the selected venues and crime statistics of the area.\n",
    " "
   ]
  },
  {
   "cell_type": "markdown",
   "metadata": {},
   "source": [
    "## Section5:Visulizations and Prediction"
   ]
  },
  {
   "cell_type": "raw",
   "metadata": {},
   "source": [
    "Of the top ten venues 8 were identified as potentially dangerous to visit and 2 were deems safe. As there is no data to compare the predictions against the best way we will visualise the data again.\n",
    "\n",
    "We will look at the following 4 venues:\n",
    "\n",
    "Millennium Park 41.882699 -87.623644\n",
    "The Chicago Theatre 41.885578 -87.627286\n",
    "Grant Park 41.873407 -87.620747\n",
    "Nature Boardwalk 41.918102 -87.633283\n",
    "The Distance Dataframe is recreated again but this time all crimes are included."
   ]
  },
  {
   "cell_type": "markdown",
   "metadata": {},
   "source": [
    "## Section6:Conclusions"
   ]
  },
  {
   "cell_type": "raw",
   "metadata": {},
   "source": [
    "Although all of the goals of this project were met there is definitely room for further improvement and development as noted below. However, the goals of the project were met and, with some more work, could easily be devleoped into a fully phledged application that could support the cautious traveller in an unknown location.\n",
    "\n",
    "Of the contributing data the Chicago Crime data is the one where more data would be good to have. Also not every city in the world makes this data freely available so that is a drawback.\n",
    "\n",
    "FourSquare proved to be a good source of data but frustrating at times. Despite having a Developer account I regularly exceeded my hourly limit locking me out for the day. This is why Pickle was used to store the captured data."
   ]
  },
  {
   "cell_type": "code",
   "execution_count": null,
   "metadata": {},
   "outputs": [],
   "source": []
  }
 ],
 "metadata": {
  "kernelspec": {
   "display_name": "Python 3",
   "language": "python",
   "name": "python3"
  },
  "language_info": {
   "codemirror_mode": {
    "name": "ipython",
    "version": 3
   },
   "file_extension": ".py",
   "mimetype": "text/x-python",
   "name": "python",
   "nbconvert_exporter": "python",
   "pygments_lexer": "ipython3",
   "version": "3.7.4"
  }
 },
 "nbformat": 4,
 "nbformat_minor": 2
}
